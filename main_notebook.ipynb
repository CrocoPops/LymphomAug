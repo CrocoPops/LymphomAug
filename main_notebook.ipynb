{
  "cells": [
    {
      "cell_type": "markdown",
      "id": "1ae9e0ed-b3ed-4d02-90de-54f398cb5f1c",
      "metadata": {
        "id": "1ae9e0ed-b3ed-4d02-90de-54f398cb5f1c"
      },
      "source": [
        "### Imports"
      ]
    },
    {
      "cell_type": "code",
      "execution_count": 26,
      "id": "5adfbe9f-3bbc-442d-ab86-c46b796b5050",
      "metadata": {
        "id": "5adfbe9f-3bbc-442d-ab86-c46b796b5050"
      },
      "outputs": [],
      "source": [
        "import torch\n",
        "import os\n",
        "import re\n",
        "\n",
        "import torch\n",
        "import torch.nn as nn\n",
        "import torch.nn.functional as F\n",
        "import torch.optim as optim\n",
        "\n",
        "from torch.utils.data import DataLoader\n",
        "from torch.utils.data import Dataset\n",
        "from torchvision import transforms\n",
        "from PIL import Image\n",
        "from natsort import natsorted\n",
        "from torchvision import models"
      ]
    },
    {
      "cell_type": "code",
      "source": [
        "from google.colab import drive\n",
        "BASE_FOLDER = os.getcwd()\n",
        "print(BASE_FOLDER)\n",
        "drive.mount(os.path.join(BASE_FOLDER, \"drive\"))"
      ],
      "metadata": {
        "id": "A8XAfuJwnTk0",
        "outputId": "baaa78bd-5116-4182-ffda-8ad888f194bc",
        "colab": {
          "base_uri": "https://localhost:8080/"
        }
      },
      "id": "A8XAfuJwnTk0",
      "execution_count": 27,
      "outputs": [
        {
          "output_type": "stream",
          "name": "stdout",
          "text": [
            "/content\n",
            "Drive already mounted at /content/drive; to attempt to forcibly remount, call drive.mount(\"/content/drive\", force_remount=True).\n"
          ]
        }
      ]
    },
    {
      "cell_type": "code",
      "source": [
        "import zipfile\n",
        "zipf = zipfile.ZipFile(os.path.join(BASE_FOLDER, \"drive\", \"MyDrive\", \"data.zip\"))\n",
        "zipf.extractall(os.path.join(BASE_FOLDER, \"data\"))\n",
        "zipf.close()"
      ],
      "metadata": {
        "id": "oIS7er_dnd8W"
      },
      "id": "oIS7er_dnd8W",
      "execution_count": 28,
      "outputs": []
    },
    {
      "cell_type": "markdown",
      "id": "2b2ed99f-9ff4-4982-a601-c19ecccfcf0d",
      "metadata": {
        "id": "2b2ed99f-9ff4-4982-a601-c19ecccfcf0d"
      },
      "source": [
        "### Creating the pytorch dataset"
      ]
    },
    {
      "cell_type": "code",
      "execution_count": 38,
      "id": "fef950f2-ab2d-4f9d-8d39-13decf5599f9",
      "metadata": {
        "id": "fef950f2-ab2d-4f9d-8d39-13decf5599f9",
        "outputId": "c440950f-aec8-49f1-81e0-c11310d06874",
        "colab": {
          "base_uri": "https://localhost:8080/"
        }
      },
      "outputs": [
        {
          "output_type": "stream",
          "name": "stdout",
          "text": [
            "['/content/data/labels/0.txt', '/content/data/labels/1.txt', '/content/data/labels/2.txt', '/content/data/labels/3.txt', '/content/data/labels/4.txt', '/content/data/labels/5.txt', '/content/data/labels/6.txt', '/content/data/labels/7.txt', '/content/data/labels/8.txt', '/content/data/labels/9.txt', '/content/data/labels/10.txt', '/content/data/labels/11.txt', '/content/data/labels/12.txt', '/content/data/labels/13.txt', '/content/data/labels/14.txt', '/content/data/labels/15.txt', '/content/data/labels/16.txt', '/content/data/labels/17.txt', '/content/data/labels/18.txt', '/content/data/labels/19.txt', '/content/data/labels/20.txt', '/content/data/labels/21.txt', '/content/data/labels/22.txt', '/content/data/labels/23.txt', '/content/data/labels/24.txt', '/content/data/labels/25.txt', '/content/data/labels/26.txt', '/content/data/labels/27.txt', '/content/data/labels/28.txt', '/content/data/labels/29.txt', '/content/data/labels/30.txt', '/content/data/labels/31.txt', '/content/data/labels/32.txt', '/content/data/labels/33.txt', '/content/data/labels/34.txt', '/content/data/labels/35.txt', '/content/data/labels/36.txt', '/content/data/labels/37.txt', '/content/data/labels/38.txt', '/content/data/labels/39.txt', '/content/data/labels/40.txt', '/content/data/labels/41.txt', '/content/data/labels/42.txt', '/content/data/labels/43.txt', '/content/data/labels/44.txt', '/content/data/labels/45.txt', '/content/data/labels/46.txt', '/content/data/labels/47.txt', '/content/data/labels/48.txt', '/content/data/labels/49.txt', '/content/data/labels/50.txt', '/content/data/labels/51.txt', '/content/data/labels/52.txt', '/content/data/labels/53.txt', '/content/data/labels/54.txt', '/content/data/labels/55.txt', '/content/data/labels/56.txt', '/content/data/labels/57.txt', '/content/data/labels/58.txt', '/content/data/labels/59.txt', '/content/data/labels/60.txt', '/content/data/labels/61.txt', '/content/data/labels/62.txt', '/content/data/labels/63.txt', '/content/data/labels/64.txt', '/content/data/labels/65.txt', '/content/data/labels/66.txt', '/content/data/labels/67.txt', '/content/data/labels/68.txt', '/content/data/labels/69.txt', '/content/data/labels/70.txt', '/content/data/labels/71.txt', '/content/data/labels/72.txt', '/content/data/labels/73.txt', '/content/data/labels/74.txt', '/content/data/labels/75.txt', '/content/data/labels/76.txt', '/content/data/labels/77.txt', '/content/data/labels/78.txt', '/content/data/labels/79.txt', '/content/data/labels/80.txt', '/content/data/labels/81.txt', '/content/data/labels/82.txt', '/content/data/labels/83.txt', '/content/data/labels/84.txt', '/content/data/labels/85.txt', '/content/data/labels/86.txt', '/content/data/labels/87.txt', '/content/data/labels/88.txt', '/content/data/labels/89.txt', '/content/data/labels/90.txt', '/content/data/labels/91.txt', '/content/data/labels/92.txt', '/content/data/labels/93.txt', '/content/data/labels/94.txt', '/content/data/labels/95.txt', '/content/data/labels/96.txt', '/content/data/labels/97.txt', '/content/data/labels/98.txt', '/content/data/labels/99.txt', '/content/data/labels/100.txt', '/content/data/labels/101.txt', '/content/data/labels/102.txt', '/content/data/labels/103.txt', '/content/data/labels/104.txt', '/content/data/labels/105.txt', '/content/data/labels/106.txt', '/content/data/labels/107.txt', '/content/data/labels/108.txt', '/content/data/labels/109.txt', '/content/data/labels/110.txt', '/content/data/labels/111.txt', '/content/data/labels/112.txt', '/content/data/labels/113.txt', '/content/data/labels/114.txt', '/content/data/labels/115.txt', '/content/data/labels/116.txt', '/content/data/labels/117.txt', '/content/data/labels/118.txt', '/content/data/labels/119.txt', '/content/data/labels/120.txt', '/content/data/labels/121.txt', '/content/data/labels/122.txt', '/content/data/labels/123.txt', '/content/data/labels/124.txt', '/content/data/labels/125.txt', '/content/data/labels/126.txt', '/content/data/labels/127.txt', '/content/data/labels/128.txt', '/content/data/labels/129.txt', '/content/data/labels/130.txt', '/content/data/labels/131.txt', '/content/data/labels/132.txt', '/content/data/labels/133.txt', '/content/data/labels/134.txt', '/content/data/labels/135.txt', '/content/data/labels/136.txt', '/content/data/labels/137.txt', '/content/data/labels/138.txt', '/content/data/labels/139.txt', '/content/data/labels/140.txt', '/content/data/labels/141.txt', '/content/data/labels/142.txt', '/content/data/labels/143.txt', '/content/data/labels/144.txt', '/content/data/labels/145.txt', '/content/data/labels/146.txt', '/content/data/labels/147.txt', '/content/data/labels/148.txt', '/content/data/labels/149.txt', '/content/data/labels/150.txt', '/content/data/labels/151.txt', '/content/data/labels/152.txt', '/content/data/labels/153.txt', '/content/data/labels/154.txt', '/content/data/labels/155.txt', '/content/data/labels/156.txt', '/content/data/labels/157.txt', '/content/data/labels/158.txt', '/content/data/labels/159.txt', '/content/data/labels/160.txt', '/content/data/labels/161.txt', '/content/data/labels/162.txt', '/content/data/labels/163.txt', '/content/data/labels/164.txt', '/content/data/labels/165.txt', '/content/data/labels/166.txt', '/content/data/labels/167.txt', '/content/data/labels/168.txt', '/content/data/labels/169.txt', '/content/data/labels/170.txt', '/content/data/labels/171.txt', '/content/data/labels/172.txt', '/content/data/labels/173.txt', '/content/data/labels/174.txt', '/content/data/labels/175.txt', '/content/data/labels/176.txt', '/content/data/labels/177.txt', '/content/data/labels/178.txt', '/content/data/labels/179.txt', '/content/data/labels/180.txt', '/content/data/labels/181.txt', '/content/data/labels/182.txt', '/content/data/labels/183.txt', '/content/data/labels/184.txt', '/content/data/labels/185.txt', '/content/data/labels/186.txt', '/content/data/labels/187.txt', '/content/data/labels/188.txt', '/content/data/labels/189.txt', '/content/data/labels/190.txt', '/content/data/labels/191.txt', '/content/data/labels/192.txt', '/content/data/labels/193.txt', '/content/data/labels/194.txt', '/content/data/labels/195.txt', '/content/data/labels/196.txt', '/content/data/labels/197.txt', '/content/data/labels/198.txt', '/content/data/labels/199.txt', '/content/data/labels/200.txt', '/content/data/labels/201.txt', '/content/data/labels/202.txt', '/content/data/labels/203.txt', '/content/data/labels/204.txt', '/content/data/labels/205.txt', '/content/data/labels/206.txt', '/content/data/labels/207.txt', '/content/data/labels/208.txt', '/content/data/labels/209.txt', '/content/data/labels/210.txt', '/content/data/labels/211.txt', '/content/data/labels/212.txt', '/content/data/labels/213.txt', '/content/data/labels/214.txt', '/content/data/labels/215.txt', '/content/data/labels/216.txt', '/content/data/labels/217.txt', '/content/data/labels/218.txt', '/content/data/labels/219.txt', '/content/data/labels/220.txt', '/content/data/labels/221.txt', '/content/data/labels/222.txt', '/content/data/labels/223.txt', '/content/data/labels/224.txt', '/content/data/labels/225.txt', '/content/data/labels/226.txt', '/content/data/labels/227.txt', '/content/data/labels/228.txt', '/content/data/labels/229.txt', '/content/data/labels/230.txt', '/content/data/labels/231.txt', '/content/data/labels/232.txt', '/content/data/labels/233.txt', '/content/data/labels/234.txt', '/content/data/labels/235.txt', '/content/data/labels/236.txt', '/content/data/labels/237.txt', '/content/data/labels/238.txt', '/content/data/labels/239.txt', '/content/data/labels/240.txt', '/content/data/labels/241.txt', '/content/data/labels/242.txt', '/content/data/labels/243.txt', '/content/data/labels/244.txt', '/content/data/labels/245.txt', '/content/data/labels/246.txt', '/content/data/labels/247.txt', '/content/data/labels/248.txt', '/content/data/labels/249.txt', '/content/data/labels/250.txt', '/content/data/labels/251.txt', '/content/data/labels/252.txt', '/content/data/labels/253.txt', '/content/data/labels/254.txt', '/content/data/labels/255.txt', '/content/data/labels/256.txt', '/content/data/labels/257.txt', '/content/data/labels/258.txt', '/content/data/labels/259.txt', '/content/data/labels/260.txt', '/content/data/labels/261.txt', '/content/data/labels/262.txt', '/content/data/labels/263.txt', '/content/data/labels/264.txt', '/content/data/labels/265.txt', '/content/data/labels/266.txt', '/content/data/labels/267.txt', '/content/data/labels/268.txt', '/content/data/labels/269.txt', '/content/data/labels/270.txt', '/content/data/labels/271.txt', '/content/data/labels/272.txt', '/content/data/labels/273.txt', '/content/data/labels/274.txt', '/content/data/labels/275.txt', '/content/data/labels/276.txt', '/content/data/labels/277.txt', '/content/data/labels/278.txt', '/content/data/labels/279.txt', '/content/data/labels/280.txt', '/content/data/labels/281.txt', '/content/data/labels/282.txt', '/content/data/labels/283.txt', '/content/data/labels/284.txt', '/content/data/labels/285.txt', '/content/data/labels/286.txt', '/content/data/labels/287.txt', '/content/data/labels/288.txt', '/content/data/labels/289.txt', '/content/data/labels/290.txt', '/content/data/labels/291.txt', '/content/data/labels/292.txt', '/content/data/labels/293.txt', '/content/data/labels/294.txt', '/content/data/labels/295.txt', '/content/data/labels/296.txt', '/content/data/labels/297.txt', '/content/data/labels/298.txt', '/content/data/labels/299.txt', '/content/data/labels/300.txt', '/content/data/labels/301.txt', '/content/data/labels/302.txt', '/content/data/labels/303.txt', '/content/data/labels/304.txt', '/content/data/labels/305.txt', '/content/data/labels/306.txt', '/content/data/labels/307.txt', '/content/data/labels/308.txt', '/content/data/labels/309.txt', '/content/data/labels/310.txt', '/content/data/labels/311.txt', '/content/data/labels/312.txt', '/content/data/labels/313.txt', '/content/data/labels/314.txt', '/content/data/labels/315.txt', '/content/data/labels/316.txt', '/content/data/labels/317.txt', '/content/data/labels/318.txt', '/content/data/labels/319.txt', '/content/data/labels/320.txt', '/content/data/labels/321.txt', '/content/data/labels/322.txt', '/content/data/labels/323.txt', '/content/data/labels/324.txt', '/content/data/labels/325.txt', '/content/data/labels/326.txt', '/content/data/labels/327.txt', '/content/data/labels/328.txt', '/content/data/labels/329.txt', '/content/data/labels/330.txt', '/content/data/labels/331.txt', '/content/data/labels/332.txt', '/content/data/labels/333.txt', '/content/data/labels/334.txt', '/content/data/labels/335.txt', '/content/data/labels/336.txt', '/content/data/labels/337.txt', '/content/data/labels/338.txt', '/content/data/labels/339.txt', '/content/data/labels/340.txt', '/content/data/labels/341.txt', '/content/data/labels/342.txt', '/content/data/labels/343.txt', '/content/data/labels/344.txt', '/content/data/labels/345.txt', '/content/data/labels/346.txt', '/content/data/labels/347.txt', '/content/data/labels/348.txt', '/content/data/labels/349.txt', '/content/data/labels/350.txt', '/content/data/labels/351.txt', '/content/data/labels/352.txt', '/content/data/labels/353.txt', '/content/data/labels/354.txt', '/content/data/labels/355.txt', '/content/data/labels/356.txt', '/content/data/labels/357.txt', '/content/data/labels/358.txt', '/content/data/labels/359.txt', '/content/data/labels/360.txt', '/content/data/labels/361.txt', '/content/data/labels/362.txt', '/content/data/labels/363.txt', '/content/data/labels/364.txt', '/content/data/labels/365.txt', '/content/data/labels/366.txt', '/content/data/labels/367.txt', '/content/data/labels/368.txt', '/content/data/labels/369.txt', '/content/data/labels/370.txt', '/content/data/labels/371.txt', '/content/data/labels/372.txt', '/content/data/labels/373.txt', '/content/data/augmented_labels/374.txt', '/content/data/augmented_labels/375.txt', '/content/data/augmented_labels/376.txt', '/content/data/augmented_labels/377.txt', '/content/data/augmented_labels/378.txt', '/content/data/augmented_labels/379.txt', '/content/data/augmented_labels/380.txt', '/content/data/augmented_labels/381.txt', '/content/data/augmented_labels/382.txt', '/content/data/augmented_labels/383.txt', '/content/data/augmented_labels/384.txt', '/content/data/augmented_labels/385.txt', '/content/data/augmented_labels/386.txt', '/content/data/augmented_labels/387.txt', '/content/data/augmented_labels/388.txt', '/content/data/augmented_labels/389.txt', '/content/data/augmented_labels/390.txt', '/content/data/augmented_labels/391.txt', '/content/data/augmented_labels/392.txt', '/content/data/augmented_labels/393.txt', '/content/data/augmented_labels/394.txt', '/content/data/augmented_labels/395.txt', '/content/data/augmented_labels/396.txt', '/content/data/augmented_labels/397.txt', '/content/data/augmented_labels/398.txt', '/content/data/augmented_labels/399.txt', '/content/data/augmented_labels/400.txt', '/content/data/augmented_labels/401.txt', '/content/data/augmented_labels/402.txt', '/content/data/augmented_labels/403.txt', '/content/data/augmented_labels/404.txt', '/content/data/augmented_labels/405.txt', '/content/data/augmented_labels/406.txt', '/content/data/augmented_labels/407.txt', '/content/data/augmented_labels/408.txt', '/content/data/augmented_labels/409.txt', '/content/data/augmented_labels/410.txt', '/content/data/augmented_labels/411.txt', '/content/data/augmented_labels/412.txt', '/content/data/augmented_labels/413.txt', '/content/data/augmented_labels/414.txt', '/content/data/augmented_labels/415.txt', '/content/data/augmented_labels/416.txt', '/content/data/augmented_labels/417.txt', '/content/data/augmented_labels/418.txt', '/content/data/augmented_labels/419.txt', '/content/data/augmented_labels/420.txt', '/content/data/augmented_labels/421.txt', '/content/data/augmented_labels/422.txt', '/content/data/augmented_labels/423.txt', '/content/data/augmented_labels/424.txt', '/content/data/augmented_labels/425.txt', '/content/data/augmented_labels/426.txt', '/content/data/augmented_labels/427.txt', '/content/data/augmented_labels/428.txt', '/content/data/augmented_labels/429.txt', '/content/data/augmented_labels/430.txt', '/content/data/augmented_labels/431.txt', '/content/data/augmented_labels/432.txt', '/content/data/augmented_labels/433.txt', '/content/data/augmented_labels/434.txt', '/content/data/augmented_labels/435.txt', '/content/data/augmented_labels/436.txt', '/content/data/augmented_labels/437.txt', '/content/data/augmented_labels/438.txt', '/content/data/augmented_labels/439.txt', '/content/data/augmented_labels/440.txt', '/content/data/augmented_labels/441.txt', '/content/data/augmented_labels/442.txt', '/content/data/augmented_labels/443.txt', '/content/data/augmented_labels/444.txt', '/content/data/augmented_labels/445.txt', '/content/data/augmented_labels/446.txt', '/content/data/augmented_labels/447.txt', '/content/data/augmented_labels/448.txt', '/content/data/augmented_labels/449.txt', '/content/data/augmented_labels/450.txt', '/content/data/augmented_labels/451.txt', '/content/data/augmented_labels/452.txt', '/content/data/augmented_labels/453.txt', '/content/data/augmented_labels/454.txt', '/content/data/augmented_labels/455.txt', '/content/data/augmented_labels/456.txt', '/content/data/augmented_labels/457.txt', '/content/data/augmented_labels/458.txt', '/content/data/augmented_labels/459.txt', '/content/data/augmented_labels/460.txt', '/content/data/augmented_labels/461.txt', '/content/data/augmented_labels/462.txt', '/content/data/augmented_labels/463.txt', '/content/data/augmented_labels/464.txt', '/content/data/augmented_labels/465.txt', '/content/data/augmented_labels/466.txt', '/content/data/augmented_labels/467.txt', '/content/data/augmented_labels/468.txt', '/content/data/augmented_labels/469.txt', '/content/data/augmented_labels/470.txt', '/content/data/augmented_labels/471.txt', '/content/data/augmented_labels/472.txt', '/content/data/augmented_labels/473.txt', '/content/data/augmented_labels/474.txt', '/content/data/augmented_labels/475.txt', '/content/data/augmented_labels/476.txt', '/content/data/augmented_labels/477.txt', '/content/data/augmented_labels/478.txt', '/content/data/augmented_labels/479.txt', '/content/data/augmented_labels/480.txt', '/content/data/augmented_labels/481.txt', '/content/data/augmented_labels/482.txt', '/content/data/augmented_labels/483.txt', '/content/data/augmented_labels/484.txt', '/content/data/augmented_labels/485.txt', '/content/data/augmented_labels/486.txt', '/content/data/augmented_labels/487.txt', '/content/data/augmented_labels/488.txt', '/content/data/augmented_labels/489.txt', '/content/data/augmented_labels/490.txt', '/content/data/augmented_labels/491.txt', '/content/data/augmented_labels/492.txt', '/content/data/augmented_labels/493.txt', '/content/data/augmented_labels/494.txt', '/content/data/augmented_labels/495.txt', '/content/data/augmented_labels/496.txt', '/content/data/augmented_labels/497.txt', '/content/data/augmented_labels/498.txt', '/content/data/augmented_labels/499.txt', '/content/data/augmented_labels/500.txt', '/content/data/augmented_labels/501.txt', '/content/data/augmented_labels/502.txt', '/content/data/augmented_labels/503.txt', '/content/data/augmented_labels/504.txt', '/content/data/augmented_labels/505.txt', '/content/data/augmented_labels/506.txt', '/content/data/augmented_labels/507.txt', '/content/data/augmented_labels/508.txt', '/content/data/augmented_labels/509.txt', '/content/data/augmented_labels/510.txt', '/content/data/augmented_labels/511.txt', '/content/data/augmented_labels/512.txt', '/content/data/augmented_labels/513.txt', '/content/data/augmented_labels/514.txt', '/content/data/augmented_labels/515.txt', '/content/data/augmented_labels/516.txt', '/content/data/augmented_labels/517.txt', '/content/data/augmented_labels/518.txt', '/content/data/augmented_labels/519.txt', '/content/data/augmented_labels/520.txt', '/content/data/augmented_labels/521.txt', '/content/data/augmented_labels/522.txt', '/content/data/augmented_labels/523.txt', '/content/data/augmented_labels/524.txt', '/content/data/augmented_labels/525.txt', '/content/data/augmented_labels/526.txt', '/content/data/augmented_labels/527.txt', '/content/data/augmented_labels/528.txt', '/content/data/augmented_labels/529.txt', '/content/data/augmented_labels/530.txt', '/content/data/augmented_labels/531.txt', '/content/data/augmented_labels/532.txt', '/content/data/augmented_labels/533.txt', '/content/data/augmented_labels/534.txt', '/content/data/augmented_labels/535.txt', '/content/data/augmented_labels/536.txt', '/content/data/augmented_labels/537.txt', '/content/data/augmented_labels/538.txt', '/content/data/augmented_labels/539.txt', '/content/data/augmented_labels/540.txt', '/content/data/augmented_labels/541.txt', '/content/data/augmented_labels/542.txt', '/content/data/augmented_labels/543.txt', '/content/data/augmented_labels/544.txt', '/content/data/augmented_labels/545.txt', '/content/data/augmented_labels/546.txt', '/content/data/augmented_labels/547.txt', '/content/data/augmented_labels/548.txt', '/content/data/augmented_labels/549.txt', '/content/data/augmented_labels/550.txt', '/content/data/augmented_labels/551.txt', '/content/data/augmented_labels/552.txt', '/content/data/augmented_labels/553.txt', '/content/data/augmented_labels/554.txt', '/content/data/augmented_labels/555.txt', '/content/data/augmented_labels/556.txt', '/content/data/augmented_labels/557.txt', '/content/data/augmented_labels/558.txt', '/content/data/augmented_labels/559.txt', '/content/data/augmented_labels/560.txt', '/content/data/augmented_labels/561.txt', '/content/data/augmented_labels/562.txt', '/content/data/augmented_labels/563.txt', '/content/data/augmented_labels/564.txt', '/content/data/augmented_labels/565.txt', '/content/data/augmented_labels/566.txt', '/content/data/augmented_labels/567.txt', '/content/data/augmented_labels/568.txt', '/content/data/augmented_labels/569.txt', '/content/data/augmented_labels/570.txt', '/content/data/augmented_labels/571.txt', '/content/data/augmented_labels/572.txt', '/content/data/augmented_labels/573.txt', '/content/data/augmented_labels/574.txt', '/content/data/augmented_labels/575.txt', '/content/data/augmented_labels/576.txt', '/content/data/augmented_labels/577.txt', '/content/data/augmented_labels/578.txt', '/content/data/augmented_labels/579.txt', '/content/data/augmented_labels/580.txt', '/content/data/augmented_labels/581.txt', '/content/data/augmented_labels/582.txt', '/content/data/augmented_labels/583.txt', '/content/data/augmented_labels/584.txt', '/content/data/augmented_labels/585.txt', '/content/data/augmented_labels/586.txt', '/content/data/augmented_labels/587.txt', '/content/data/augmented_labels/588.txt', '/content/data/augmented_labels/589.txt', '/content/data/augmented_labels/590.txt', '/content/data/augmented_labels/591.txt', '/content/data/augmented_labels/592.txt', '/content/data/augmented_labels/593.txt', '/content/data/augmented_labels/594.txt', '/content/data/augmented_labels/595.txt', '/content/data/augmented_labels/596.txt', '/content/data/augmented_labels/597.txt', '/content/data/augmented_labels/598.txt', '/content/data/augmented_labels/599.txt', '/content/data/augmented_labels/600.txt', '/content/data/augmented_labels/601.txt', '/content/data/augmented_labels/602.txt', '/content/data/augmented_labels/603.txt', '/content/data/augmented_labels/604.txt', '/content/data/augmented_labels/605.txt', '/content/data/augmented_labels/606.txt', '/content/data/augmented_labels/607.txt', '/content/data/augmented_labels/608.txt', '/content/data/augmented_labels/609.txt', '/content/data/augmented_labels/610.txt', '/content/data/augmented_labels/611.txt', '/content/data/augmented_labels/612.txt', '/content/data/augmented_labels/613.txt', '/content/data/augmented_labels/614.txt', '/content/data/augmented_labels/615.txt', '/content/data/augmented_labels/616.txt', '/content/data/augmented_labels/617.txt', '/content/data/augmented_labels/618.txt', '/content/data/augmented_labels/619.txt', '/content/data/augmented_labels/620.txt', '/content/data/augmented_labels/621.txt', '/content/data/augmented_labels/622.txt', '/content/data/augmented_labels/623.txt', '/content/data/augmented_labels/624.txt', '/content/data/augmented_labels/625.txt', '/content/data/augmented_labels/626.txt', '/content/data/augmented_labels/627.txt', '/content/data/augmented_labels/628.txt', '/content/data/augmented_labels/629.txt', '/content/data/augmented_labels/630.txt', '/content/data/augmented_labels/631.txt', '/content/data/augmented_labels/632.txt', '/content/data/augmented_labels/633.txt', '/content/data/augmented_labels/634.txt', '/content/data/augmented_labels/635.txt', '/content/data/augmented_labels/636.txt', '/content/data/augmented_labels/637.txt', '/content/data/augmented_labels/638.txt', '/content/data/augmented_labels/639.txt', '/content/data/augmented_labels/640.txt', '/content/data/augmented_labels/641.txt', '/content/data/augmented_labels/642.txt', '/content/data/augmented_labels/643.txt', '/content/data/augmented_labels/644.txt', '/content/data/augmented_labels/645.txt', '/content/data/augmented_labels/646.txt', '/content/data/augmented_labels/647.txt', '/content/data/augmented_labels/648.txt', '/content/data/augmented_labels/649.txt', '/content/data/augmented_labels/650.txt', '/content/data/augmented_labels/651.txt', '/content/data/augmented_labels/652.txt', '/content/data/augmented_labels/653.txt', '/content/data/augmented_labels/654.txt', '/content/data/augmented_labels/655.txt', '/content/data/augmented_labels/656.txt', '/content/data/augmented_labels/657.txt', '/content/data/augmented_labels/658.txt', '/content/data/augmented_labels/659.txt', '/content/data/augmented_labels/660.txt', '/content/data/augmented_labels/661.txt', '/content/data/augmented_labels/662.txt', '/content/data/augmented_labels/663.txt', '/content/data/augmented_labels/664.txt', '/content/data/augmented_labels/665.txt', '/content/data/augmented_labels/666.txt', '/content/data/augmented_labels/667.txt', '/content/data/augmented_labels/668.txt', '/content/data/augmented_labels/669.txt', '/content/data/augmented_labels/670.txt', '/content/data/augmented_labels/671.txt', '/content/data/augmented_labels/672.txt', '/content/data/augmented_labels/673.txt', '/content/data/augmented_labels/674.txt', '/content/data/augmented_labels/675.txt', '/content/data/augmented_labels/676.txt', '/content/data/augmented_labels/677.txt', '/content/data/augmented_labels/678.txt', '/content/data/augmented_labels/679.txt', '/content/data/augmented_labels/680.txt', '/content/data/augmented_labels/681.txt', '/content/data/augmented_labels/682.txt', '/content/data/augmented_labels/683.txt', '/content/data/augmented_labels/684.txt', '/content/data/augmented_labels/685.txt', '/content/data/augmented_labels/686.txt', '/content/data/augmented_labels/687.txt', '/content/data/augmented_labels/688.txt', '/content/data/augmented_labels/689.txt', '/content/data/augmented_labels/690.txt', '/content/data/augmented_labels/691.txt', '/content/data/augmented_labels/692.txt', '/content/data/augmented_labels/693.txt', '/content/data/augmented_labels/694.txt', '/content/data/augmented_labels/695.txt', '/content/data/augmented_labels/696.txt', '/content/data/augmented_labels/697.txt', '/content/data/augmented_labels/698.txt', '/content/data/augmented_labels/699.txt', '/content/data/augmented_labels/700.txt', '/content/data/augmented_labels/701.txt', '/content/data/augmented_labels/702.txt', '/content/data/augmented_labels/703.txt', '/content/data/augmented_labels/704.txt', '/content/data/augmented_labels/705.txt', '/content/data/augmented_labels/706.txt', '/content/data/augmented_labels/707.txt', '/content/data/augmented_labels/708.txt', '/content/data/augmented_labels/709.txt', '/content/data/augmented_labels/710.txt', '/content/data/augmented_labels/711.txt', '/content/data/augmented_labels/712.txt', '/content/data/augmented_labels/713.txt', '/content/data/augmented_labels/714.txt', '/content/data/augmented_labels/715.txt', '/content/data/augmented_labels/716.txt', '/content/data/augmented_labels/717.txt', '/content/data/augmented_labels/718.txt', '/content/data/augmented_labels/719.txt', '/content/data/augmented_labels/720.txt', '/content/data/augmented_labels/721.txt', '/content/data/augmented_labels/722.txt', '/content/data/augmented_labels/723.txt', '/content/data/augmented_labels/724.txt', '/content/data/augmented_labels/725.txt', '/content/data/augmented_labels/726.txt', '/content/data/augmented_labels/727.txt', '/content/data/augmented_labels/728.txt', '/content/data/augmented_labels/729.txt', '/content/data/augmented_labels/730.txt', '/content/data/augmented_labels/731.txt', '/content/data/augmented_labels/732.txt', '/content/data/augmented_labels/733.txt', '/content/data/augmented_labels/734.txt', '/content/data/augmented_labels/735.txt', '/content/data/augmented_labels/736.txt', '/content/data/augmented_labels/737.txt', '/content/data/augmented_labels/738.txt', '/content/data/augmented_labels/739.txt', '/content/data/augmented_labels/740.txt', '/content/data/augmented_labels/741.txt', '/content/data/augmented_labels/742.txt', '/content/data/augmented_labels/743.txt', '/content/data/augmented_labels/744.txt', '/content/data/augmented_labels/745.txt', '/content/data/augmented_labels/746.txt', '/content/data/augmented_labels/747.txt', '/content/data/augmented_labels/748.txt', '/content/data/augmented_labels/749.txt', '/content/data/augmented_labels/750.txt', '/content/data/augmented_labels/751.txt', '/content/data/augmented_labels/752.txt', '/content/data/augmented_labels/753.txt', '/content/data/augmented_labels/754.txt', '/content/data/augmented_labels/755.txt', '/content/data/augmented_labels/756.txt', '/content/data/augmented_labels/757.txt', '/content/data/augmented_labels/758.txt', '/content/data/augmented_labels/759.txt', '/content/data/augmented_labels/760.txt', '/content/data/augmented_labels/761.txt', '/content/data/augmented_labels/762.txt', '/content/data/augmented_labels/763.txt', '/content/data/augmented_labels/764.txt', '/content/data/augmented_labels/765.txt', '/content/data/augmented_labels/766.txt', '/content/data/augmented_labels/767.txt', '/content/data/augmented_labels/768.txt', '/content/data/augmented_labels/769.txt', '/content/data/augmented_labels/770.txt', '/content/data/augmented_labels/771.txt', '/content/data/augmented_labels/772.txt', '/content/data/augmented_labels/773.txt', '/content/data/augmented_labels/774.txt', '/content/data/augmented_labels/775.txt', '/content/data/augmented_labels/776.txt', '/content/data/augmented_labels/777.txt', '/content/data/augmented_labels/778.txt', '/content/data/augmented_labels/779.txt', '/content/data/augmented_labels/780.txt', '/content/data/augmented_labels/781.txt', '/content/data/augmented_labels/782.txt', '/content/data/augmented_labels/783.txt', '/content/data/augmented_labels/784.txt', '/content/data/augmented_labels/785.txt', '/content/data/augmented_labels/786.txt', '/content/data/augmented_labels/787.txt', '/content/data/augmented_labels/788.txt', '/content/data/augmented_labels/789.txt', '/content/data/augmented_labels/790.txt', '/content/data/augmented_labels/791.txt', '/content/data/augmented_labels/792.txt', '/content/data/augmented_labels/793.txt', '/content/data/augmented_labels/794.txt', '/content/data/augmented_labels/795.txt', '/content/data/augmented_labels/796.txt', '/content/data/augmented_labels/797.txt', '/content/data/augmented_labels/798.txt', '/content/data/augmented_labels/799.txt', '/content/data/augmented_labels/800.txt', '/content/data/augmented_labels/801.txt', '/content/data/augmented_labels/802.txt', '/content/data/augmented_labels/803.txt', '/content/data/augmented_labels/804.txt', '/content/data/augmented_labels/805.txt', '/content/data/augmented_labels/806.txt', '/content/data/augmented_labels/807.txt', '/content/data/augmented_labels/808.txt', '/content/data/augmented_labels/809.txt', '/content/data/augmented_labels/810.txt', '/content/data/augmented_labels/811.txt', '/content/data/augmented_labels/812.txt', '/content/data/augmented_labels/813.txt', '/content/data/augmented_labels/814.txt', '/content/data/augmented_labels/815.txt', '/content/data/augmented_labels/816.txt', '/content/data/augmented_labels/817.txt', '/content/data/augmented_labels/818.txt', '/content/data/augmented_labels/819.txt', '/content/data/augmented_labels/820.txt', '/content/data/augmented_labels/821.txt', '/content/data/augmented_labels/822.txt', '/content/data/augmented_labels/823.txt', '/content/data/augmented_labels/824.txt', '/content/data/augmented_labels/825.txt', '/content/data/augmented_labels/826.txt', '/content/data/augmented_labels/827.txt', '/content/data/augmented_labels/828.txt', '/content/data/augmented_labels/829.txt', '/content/data/augmented_labels/830.txt', '/content/data/augmented_labels/831.txt', '/content/data/augmented_labels/832.txt', '/content/data/augmented_labels/833.txt', '/content/data/augmented_labels/834.txt', '/content/data/augmented_labels/835.txt', '/content/data/augmented_labels/836.txt', '/content/data/augmented_labels/837.txt', '/content/data/augmented_labels/838.txt', '/content/data/augmented_labels/839.txt', '/content/data/augmented_labels/840.txt', '/content/data/augmented_labels/841.txt', '/content/data/augmented_labels/842.txt', '/content/data/augmented_labels/843.txt', '/content/data/augmented_labels/844.txt', '/content/data/augmented_labels/845.txt', '/content/data/augmented_labels/846.txt', '/content/data/augmented_labels/847.txt', '/content/data/augmented_labels/848.txt', '/content/data/augmented_labels/849.txt', '/content/data/augmented_labels/850.txt', '/content/data/augmented_labels/851.txt', '/content/data/augmented_labels/852.txt', '/content/data/augmented_labels/853.txt', '/content/data/augmented_labels/854.txt', '/content/data/augmented_labels/855.txt', '/content/data/augmented_labels/856.txt', '/content/data/augmented_labels/857.txt', '/content/data/augmented_labels/858.txt', '/content/data/augmented_labels/859.txt', '/content/data/augmented_labels/860.txt', '/content/data/augmented_labels/861.txt', '/content/data/augmented_labels/862.txt', '/content/data/augmented_labels/863.txt', '/content/data/augmented_labels/864.txt', '/content/data/augmented_labels/865.txt', '/content/data/augmented_labels/866.txt', '/content/data/augmented_labels/867.txt', '/content/data/augmented_labels/868.txt', '/content/data/augmented_labels/869.txt', '/content/data/augmented_labels/870.txt', '/content/data/augmented_labels/871.txt', '/content/data/augmented_labels/872.txt', '/content/data/augmented_labels/873.txt']\n",
            "Sample 200 - Image: torch.Size([3, 500, 500]), Label: 1\n"
          ]
        }
      ],
      "source": [
        "class LymphomaDataset(Dataset):\n",
        "    def __init__(self, image_folder, label_folder, use_augmented, aug_img_folder, aug_label_folder, transform=None):\n",
        "        self.image_folder = image_folder\n",
        "        self.label_folder = label_folder\n",
        "        self.transform = transform\n",
        "        self.using_aug = use_augmented\n",
        "        self.aug_img_folder = aug_img_folder\n",
        "        self.aug_label_folder = aug_label_folder\n",
        "\n",
        "        self.image_paths = natsorted([os.path.join(image_folder, f) for f in os.listdir(image_folder) if os.path.isfile(os.path.join(image_folder, f))])\n",
        "        if self.using_aug:\n",
        "          self.aug_image_paths = natsorted([os.path.join(aug_img_folder, f) for f in os.listdir(aug_img_folder) if os.path.isfile(os.path.join(aug_img_folder, f))])\n",
        "          self.all_image_paths = self.image_paths + self.aug_image_paths\n",
        "\n",
        "        self.label_paths = natsorted([os.path.join(label_folder, f) for f in os.listdir(label_folder) if os.path.isfile(os.path.join(label_folder, f))])\n",
        "        if self.using_aug:\n",
        "          self.aug_label_paths = natsorted([os.path.join(aug_label_folder, f) for f in os.listdir(aug_label_folder) if os.path.isfile(os.path.join(aug_label_folder, f))])\n",
        "          self.all_label_paths = self.label_paths + self.aug_label_paths\n",
        "\n",
        "          print(self.all_label_paths)\n",
        "\n",
        "\n",
        "    def __len__(self):\n",
        "        return len(self.all_image_paths)\n",
        "\n",
        "    def __getitem__(self, idx):\n",
        "        image = Image.open(self.all_image_paths[idx]).convert(\"RGB\")\n",
        "        label = int(self.read_label_file(self.all_label_paths[idx]))\n",
        "\n",
        "        if self.transform:\n",
        "            image = self.transform(image)\n",
        "\n",
        "        return image, label\n",
        "\n",
        "    def read_label_file(self, label_path):\n",
        "        # Implement logic to read labels from label files\n",
        "        # For example, if labels are in text files, you can use:\n",
        "        with open(label_path, 'r') as file:\n",
        "            label = file.read().strip()  # Adjust based on your label format\n",
        "        return label\n",
        "\n",
        "# Replace 'your_image_folder' and 'your_label_folder' with the actual paths\n",
        "base_folder = os.getcwd()\n",
        "image_folder = os.path.join(base_folder, \"data\", \"images\")\n",
        "augmented_image_folder = os.path.join(base_folder, \"data\", \"augmented_images\")\n",
        "label_folder = os.path.join(base_folder, \"data\", \"labels\")\n",
        "augmented_label_folder = os.path.join(base_folder, \"data\", \"augmented_labels\")\n",
        "\n",
        "#TRY THE ROTATION OF THE IMAGES\n",
        "#from PIL import Image\n",
        "#import os\n",
        "\n",
        "# Define the rotation angle\n",
        "#angle = 45  # Rotate by a specific angle\n",
        "\n",
        "# Create a new folder for rotated images if it doesn't exist\n",
        "#output_folder_name = f\"rotated_images_{angle}\"\n",
        "#output_folder_path = os.path.join(base_folder, \"data/images\", output_folder_name)\n",
        "#if not os.path.exists(output_folder_path):\n",
        "#    os.makedirs(output_folder_path)\n",
        "#else:\n",
        "#    os.system(f\"rm {output_folder_path}/*\")\n",
        "#\n",
        "#\n",
        "#\n",
        "#\n",
        "#for image_name in os.listdir(image_folder):\n",
        "#    if image_name.lower().endswith('.png'):\n",
        "#        # Load the image\n",
        "#        img_path = os.path.join(image_folder, image_name)\n",
        "#        img = Image.open(img_path)\n",
        "\n",
        "        # Rotate the image without cropping (expand = True)\n",
        "        # If i use expand=True the image change is size for be view correctly.\n",
        "        # Else if expand=False the #pixels remains the original and the image's corners are cutted\n",
        "        # CHOOSE WHAT TO DO\n",
        "#        rotated_img = img.rotate(angle, expand=True, fillcolor=(0, 0, 0))\n",
        "\n",
        "        # Define the path to save the rotated image\n",
        "#       save_path = os.path.join(output_folder_path, f\"rotate{angle}_{image_name}\")\n",
        "\n",
        "        # Save the rotated image\n",
        "#        rotated_img.save(save_path)\n",
        "\n",
        "#        print(f\"Rotated image saved to: {save_path}\")\n",
        "\n",
        "# Define transformation (optional, you can customize it based on your needs)\n",
        "transform = transforms.Compose([\n",
        "    transforms.Resize((500, 500)),\n",
        "    transforms.ToTensor(),\n",
        "])\n",
        "\n",
        "# Instantiate the custom dataset\n",
        "dataset = LymphomaDataset(image_folder, label_folder, True, augmented_image_folder, augmented_label_folder, transform=transform)\n",
        "\n",
        "batch_size = 256\n",
        "\n",
        "# Create DataLoader\n",
        "dataloader = DataLoader(dataset, batch_size=batch_size, shuffle=True)\n",
        "\n",
        "# Access a sample from the dataset\n",
        "sample_index = 200\n",
        "sample_image, sample_label = dataset[sample_index]\n",
        "\n",
        "# Print information about the sample\n",
        "print(f\"Sample {sample_index} - Image: {sample_image.size()}, Label: {sample_label}\")\n"
      ]
    },
    {
      "cell_type": "markdown",
      "id": "1a9940a0-7181-44d8-bc65-b4efa39c2be6",
      "metadata": {
        "id": "1a9940a0-7181-44d8-bc65-b4efa39c2be6"
      },
      "source": [
        "### Creating the AlexNet"
      ]
    },
    {
      "cell_type": "code",
      "execution_count": 31,
      "id": "f50b3d55-6f3b-4f65-ba1f-b3cb0f14669b",
      "metadata": {
        "id": "f50b3d55-6f3b-4f65-ba1f-b3cb0f14669b"
      },
      "outputs": [],
      "source": [
        "class AlexNet(nn.Module):\n",
        "    def __init__(self, num_classes: int = 1000, dropout: float = 0.5) -> None:\n",
        "        super().__init__()\n",
        "        self.features = nn.Sequential(\n",
        "            nn.Conv2d(3, 64, kernel_size=11, stride=4, padding=2),\n",
        "            nn.ReLU(inplace=True),\n",
        "            nn.MaxPool2d(kernel_size=3, stride=2),\n",
        "            nn.Conv2d(64, 192, kernel_size=5, padding=2),\n",
        "            nn.ReLU(inplace=True),\n",
        "            nn.MaxPool2d(kernel_size=3, stride=2),\n",
        "            nn.Conv2d(192, 384, kernel_size=3, padding=1),\n",
        "            nn.ReLU(inplace=True),\n",
        "            nn.Conv2d(384, 256, kernel_size=3, padding=1),\n",
        "            nn.ReLU(inplace=True),\n",
        "            nn.Conv2d(256, 256, kernel_size=3, padding=1),\n",
        "            nn.ReLU(inplace=True),\n",
        "            nn.MaxPool2d(kernel_size=3, stride=2),\n",
        "        )\n",
        "        self.avgpool = nn.AdaptiveAvgPool2d((6, 6))\n",
        "        self.classifier = nn.Sequential(\n",
        "            nn.Dropout(p=dropout),\n",
        "            nn.Linear(256 * 6 * 6, 4096),\n",
        "            nn.ReLU(inplace=True),\n",
        "            nn.Dropout(p=dropout),\n",
        "            nn.Linear(4096, 4096),\n",
        "            nn.ReLU(inplace=True),\n",
        "            nn.Linear(4096, num_classes),\n",
        "        )\n",
        "\n",
        "    def forward(self, x: torch.Tensor) -> torch.Tensor:\n",
        "        x = self.features(x)\n",
        "        x = self.avgpool(x)\n",
        "        x = torch.flatten(x, 1)\n",
        "        x = self.classifier(x)\n",
        "        return x\n",
        "alexnet = AlexNet(num_classes = 3)"
      ]
    },
    {
      "cell_type": "markdown",
      "id": "6dac8086-e6a5-477a-9e34-6e0e156dc95d",
      "metadata": {
        "id": "6dac8086-e6a5-477a-9e34-6e0e156dc95d"
      },
      "source": [
        "### Training loop"
      ]
    },
    {
      "cell_type": "code",
      "execution_count": null,
      "id": "f2ee9778-c82e-4b12-ac4c-0ea83ddf1d14",
      "metadata": {
        "id": "f2ee9778-c82e-4b12-ac4c-0ea83ddf1d14",
        "outputId": "ef4c2c6a-cab9-4a4e-9c2e-fd8331e05592",
        "colab": {
          "base_uri": "https://localhost:8080/"
        }
      },
      "outputs": [
        {
          "output_type": "stream",
          "name": "stdout",
          "text": [
            "Training - Epoch: 1, Loss: 1.0981, Accuracy: 0.3387\n",
            "Training - Epoch: 2, Loss: 1.0982, Accuracy: 0.3387\n"
          ]
        }
      ],
      "source": [
        "# Define loss function and optimizer\n",
        "criterion = nn.CrossEntropyLoss()\n",
        "optimizer = optim.SGD(alexnet.parameters(), lr=0.001, momentum=0.9)\n",
        "\n",
        "num_epochs = 10\n",
        "device = torch.device('cuda' if torch.cuda.is_available() else 'cpu')\n",
        "\n",
        "alexnet.to(device) # alexnet to the device, gpu if available\n",
        "\n",
        "for epoch in range(num_epochs):\n",
        "    running_loss = 0.0\n",
        "    correct_predictions = 0\n",
        "    total_samples = 0\n",
        "\n",
        "    # Set the model to training mode\n",
        "    alexnet.train()\n",
        "\n",
        "    for inputs, labels in dataloader:\n",
        "        inputs = inputs.to(device)\n",
        "        labels = labels.to(device)\n",
        "\n",
        "        # Zero the parameter gradients\n",
        "        optimizer.zero_grad()\n",
        "\n",
        "        # Forward pass\n",
        "        outputs = alexnet(inputs)\n",
        "        loss = criterion(outputs, labels)\n",
        "\n",
        "        # Backward pass and optimization\n",
        "        loss.backward()\n",
        "        optimizer.step()\n",
        "\n",
        "        # Update running statistics\n",
        "        running_loss += loss.item()\n",
        "        _, predicted = torch.max(outputs, 1)\n",
        "        correct_predictions += (predicted == labels).sum().item()\n",
        "        total_samples += labels.size(0)\n",
        "\n",
        "    # Calculate training accuracy and loss for the epoch\n",
        "    train_accuracy = correct_predictions / total_samples\n",
        "    average_loss = running_loss / len(dataloader)\n",
        "\n",
        "    print(f'Training - Epoch: {epoch + 1}, Loss: {average_loss:.4f}, Accuracy: {train_accuracy:.4f}')\n",
        "\n"
      ]
    },
    {
      "cell_type": "code",
      "execution_count": null,
      "id": "a91abc5e-e9d2-42f3-abe2-3854f132c9cf",
      "metadata": {
        "id": "a91abc5e-e9d2-42f3-abe2-3854f132c9cf"
      },
      "outputs": [],
      "source": []
    }
  ],
  "metadata": {
    "kernelspec": {
      "display_name": "Python 3",
      "name": "python3"
    },
    "language_info": {
      "codemirror_mode": {
        "name": "ipython",
        "version": 3
      },
      "file_extension": ".py",
      "mimetype": "text/x-python",
      "name": "python",
      "nbconvert_exporter": "python",
      "pygments_lexer": "ipython3",
      "version": "3.10.12"
    },
    "colab": {
      "provenance": []
    }
  },
  "nbformat": 4,
  "nbformat_minor": 5
}