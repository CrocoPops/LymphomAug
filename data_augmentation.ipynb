{
  "cells": [
    {
      "cell_type": "code",
      "source": [
        "import os\n",
        "BASE_FOLDER = os.getcwd()\n",
        "print(BASE_FOLDER)"
      ],
      "metadata": {
        "colab": {
          "base_uri": "https://localhost:8080/"
        },
        "id": "ZbytoWVcbsAV",
        "outputId": "954f8e2b-5f88-4438-8e67-0b5ecd654c0f"
      },
      "id": "ZbytoWVcbsAV",
      "execution_count": null,
      "outputs": [
        {
          "output_type": "stream",
          "name": "stdout",
          "text": [
            "/content\n"
          ]
        }
      ]
    },
    {
      "cell_type": "code",
      "execution_count": null,
      "metadata": {
        "colab": {
          "base_uri": "https://localhost:8080/"
        },
        "id": "fZ37n_jSEiTr",
        "outputId": "a7aeb04e-7c42-4d0b-8840-38677b76fdb8"
      },
      "outputs": [
        {
          "output_type": "stream",
          "name": "stdout",
          "text": [
            "Mounted at /content/drive\n"
          ]
        }
      ],
      "source": [
        "from google.colab import drive\n",
        "drive.mount(os.path.join(BASE_FOLDER, \"drive\"))"
      ],
      "id": "fZ37n_jSEiTr"
    },
    {
      "cell_type": "code",
      "execution_count": null,
      "metadata": {
        "id": "ZDdVXn3SFgHc"
      },
      "outputs": [],
      "source": [
        "import zipfile\n",
        "zipf = zipfile.ZipFile(\"/content/drive/MyDrive/data.zip\")\n",
        "zipf.extractall(os.path.join(BASE_FOLDER, \"data\"))\n",
        "zipf.close()"
      ],
      "id": "ZDdVXn3SFgHc"
    },
    {
      "cell_type": "code",
      "source": [
        "!pip install Augmentor"
      ],
      "metadata": {
        "id": "p37G8LcQbQoM",
        "colab": {
          "base_uri": "https://localhost:8080/"
        },
        "outputId": "49d73a67-7edf-4175-955b-2d5bc72c3bdd"
      },
      "id": "p37G8LcQbQoM",
      "execution_count": null,
      "outputs": [
        {
          "output_type": "stream",
          "name": "stdout",
          "text": [
            "Collecting Augmentor\n",
            "  Downloading Augmentor-0.2.12-py2.py3-none-any.whl (38 kB)\n",
            "Requirement already satisfied: Pillow>=5.2.0 in /usr/local/lib/python3.10/dist-packages (from Augmentor) (9.4.0)\n",
            "Requirement already satisfied: tqdm>=4.9.0 in /usr/local/lib/python3.10/dist-packages (from Augmentor) (4.66.2)\n",
            "Requirement already satisfied: numpy>=1.11.0 in /usr/local/lib/python3.10/dist-packages (from Augmentor) (1.25.2)\n",
            "Installing collected packages: Augmentor\n",
            "Successfully installed Augmentor-0.2.12\n"
          ]
        }
      ]
    },
    {
      "cell_type": "code",
      "source": [
        "!rm -rf /content/data/augmented_images\n",
        "!rm -rf /content/data/augmented_labels\n",
        "!mkdir /content/data/augmented_images\n",
        "!mkdir /content/data/augmented_labels"
      ],
      "metadata": {
        "id": "L7WZK26RfWqS"
      },
      "id": "L7WZK26RfWqS",
      "execution_count": 37,
      "outputs": []
    },
    {
      "cell_type": "code",
      "execution_count": 38,
      "metadata": {
        "colab": {
          "base_uri": "https://localhost:8080/",
          "height": 265
        },
        "id": "gM2l-Ov4Ff7q",
        "outputId": "8977ff2b-c829-499c-b6fd-c6ba630dc0ff"
      },
      "outputs": [
        {
          "output_type": "stream",
          "name": "stdout",
          "text": [
            "Initialised with 374 image(s) found.\n",
            "Output directory set to /content/data/augmented_images."
          ]
        },
        {
          "output_type": "stream",
          "name": "stderr",
          "text": [
            "Processing <PIL.Image.Image image mode=RGB size=417x312 at 0x79D49932EBF0>: 100%|██████████| 500/500 [00:20<00:00, 24.71 Samples/s]\n"
          ]
        },
        {
          "output_type": "error",
          "ename": "FileNotFoundError",
          "evalue": "[Errno 2] No such file or directory: '/content/data/images/augmented_images'",
          "traceback": [
            "\u001b[0;31m---------------------------------------------------------------------------\u001b[0m",
            "\u001b[0;31mFileNotFoundError\u001b[0m                         Traceback (most recent call last)",
            "\u001b[0;32m<ipython-input-38-5534618f5354>\u001b[0m in \u001b[0;36m<cell line: 19>\u001b[0;34m()\u001b[0m\n\u001b[1;32m     17\u001b[0m \u001b[0;34m\u001b[0m\u001b[0m\n\u001b[1;32m     18\u001b[0m \u001b[0mstart\u001b[0m \u001b[0;34m=\u001b[0m \u001b[0;36m374\u001b[0m\u001b[0;34m\u001b[0m\u001b[0;34m\u001b[0m\u001b[0m\n\u001b[0;32m---> 19\u001b[0;31m \u001b[0;32mfor\u001b[0m \u001b[0mfilename\u001b[0m \u001b[0;32min\u001b[0m \u001b[0mos\u001b[0m\u001b[0;34m.\u001b[0m\u001b[0mlistdir\u001b[0m\u001b[0;34m(\u001b[0m\u001b[0mos\u001b[0m\u001b[0;34m.\u001b[0m\u001b[0mpath\u001b[0m\u001b[0;34m.\u001b[0m\u001b[0mjoin\u001b[0m\u001b[0;34m(\u001b[0m\u001b[0mBASE_FOLDER\u001b[0m\u001b[0;34m,\u001b[0m \u001b[0;34m\"data\"\u001b[0m\u001b[0;34m,\u001b[0m \u001b[0;34m\"images\"\u001b[0m\u001b[0;34m,\u001b[0m \u001b[0;34m\"augmented_images\"\u001b[0m\u001b[0;34m)\u001b[0m\u001b[0;34m)\u001b[0m\u001b[0;34m:\u001b[0m\u001b[0;34m\u001b[0m\u001b[0;34m\u001b[0m\u001b[0m\n\u001b[0m\u001b[1;32m     20\u001b[0m   \u001b[0mn\u001b[0m \u001b[0;34m=\u001b[0m \u001b[0mextract_number\u001b[0m\u001b[0;34m(\u001b[0m\u001b[0mfilename\u001b[0m\u001b[0;34m)\u001b[0m\u001b[0;34m\u001b[0m\u001b[0;34m\u001b[0m\u001b[0m\n\u001b[1;32m     21\u001b[0m   \u001b[0mos\u001b[0m\u001b[0;34m.\u001b[0m\u001b[0mrename\u001b[0m\u001b[0;34m(\u001b[0m\u001b[0mos\u001b[0m\u001b[0;34m.\u001b[0m\u001b[0mpath\u001b[0m\u001b[0;34m.\u001b[0m\u001b[0mjoin\u001b[0m\u001b[0;34m(\u001b[0m\u001b[0mBASE_FOLDER\u001b[0m\u001b[0;34m,\u001b[0m \u001b[0;34m\"data\"\u001b[0m\u001b[0;34m,\u001b[0m \u001b[0;34m\"augmented_images\"\u001b[0m\u001b[0;34m,\u001b[0m \u001b[0mfilename\u001b[0m\u001b[0;34m)\u001b[0m\u001b[0;34m,\u001b[0m \u001b[0mos\u001b[0m\u001b[0;34m.\u001b[0m\u001b[0mpath\u001b[0m\u001b[0;34m.\u001b[0m\u001b[0mjoin\u001b[0m\u001b[0;34m(\u001b[0m\u001b[0mBASE_FOLDER\u001b[0m\u001b[0;34m,\u001b[0m \u001b[0;34m\"data\"\u001b[0m\u001b[0;34m,\u001b[0m \u001b[0;34m\"augmented_images\"\u001b[0m\u001b[0;34m,\u001b[0m \u001b[0;34mf\"{start}.png\"\u001b[0m\u001b[0;34m)\u001b[0m\u001b[0;34m)\u001b[0m\u001b[0;34m\u001b[0m\u001b[0;34m\u001b[0m\u001b[0m\n",
            "\u001b[0;31mFileNotFoundError\u001b[0m: [Errno 2] No such file or directory: '/content/data/images/augmented_images'"
          ]
        }
      ],
      "source": [
        "import Augmentor\n",
        "import re\n",
        "import shutil\n",
        "\n",
        "def extract_number(s):\n",
        "    match = re.search(r'\\d+', s)\n",
        "    if match:\n",
        "        return match.group()\n",
        "    else:\n",
        "        return None\n",
        "\n",
        "p = Augmentor.Pipeline(os.path.join(BASE_FOLDER, \"data\", \"images\"), os.path.join(BASE_FOLDER, \"data\", \"augmented_images\"))\n",
        "p.rotate_random_90(probability=0.5)\n",
        "p.zoom(probability=0.5, min_factor=1.1, max_factor=1.6)\n",
        "p.flip_random(probability=0.5)\n",
        "p.sample(500)\n"
      ],
      "id": "gM2l-Ov4Ff7q"
    },
    {
      "cell_type": "code",
      "source": [
        "start = 374\n",
        "for filename in os.listdir(os.path.join(BASE_FOLDER, \"data\", \"augmented_images\")):\n",
        "  n = extract_number(filename)\n",
        "  os.rename(os.path.join(BASE_FOLDER, \"data\", \"augmented_images\", filename), os.path.join(BASE_FOLDER, \"data\", \"augmented_images\", f\"{start}.png\"))\n",
        "  shutil.copyfile(os.path.join(BASE_FOLDER, \"data\", \"labels\", f\"{n}.txt\"), os.path.join(BASE_FOLDER, \"data\", \"augmented_labels\", f\"{start}.txt\"))\n",
        "  start += 1\n"
      ],
      "metadata": {
        "id": "O1Vq_0AfmOyK"
      },
      "id": "O1Vq_0AfmOyK",
      "execution_count": 39,
      "outputs": []
    },
    {
      "cell_type": "code",
      "execution_count": 40,
      "metadata": {
        "id": "a91abc5e-e9d2-42f3-abe2-3854f132c9cf",
        "colab": {
          "base_uri": "https://localhost:8080/",
          "height": 35
        },
        "outputId": "03d7a05a-4fc6-4f71-d68d-fa0df8e16419"
      },
      "outputs": [
        {
          "output_type": "execute_result",
          "data": {
            "text/plain": [
              "'/content/drive/MyDrive/data.zip'"
            ],
            "application/vnd.google.colaboratory.intrinsic+json": {
              "type": "string"
            }
          },
          "metadata": {},
          "execution_count": 40
        }
      ],
      "source": [
        "shutil.make_archive(\"data\", 'zip', os.path.join(BASE_FOLDER, \"data\"))\n",
        "shutil.move(os.path.join(BASE_FOLDER, \"data.zip\"), os.path.join(BASE_FOLDER, \"drive\", \"MyDrive\", \"data.zip\"))"
      ],
      "id": "a91abc5e-e9d2-42f3-abe2-3854f132c9cf"
    },
    {
      "cell_type": "code",
      "source": [],
      "metadata": {
        "id": "3hj2tYnYheL3"
      },
      "id": "3hj2tYnYheL3",
      "execution_count": null,
      "outputs": []
    }
  ],
  "metadata": {
    "accelerator": "GPU",
    "colab": {
      "gpuType": "T4",
      "provenance": []
    },
    "kernelspec": {
      "display_name": "Python 3",
      "name": "python3"
    },
    "language_info": {
      "codemirror_mode": {
        "name": "ipython",
        "version": 3
      },
      "file_extension": ".py",
      "mimetype": "text/x-python",
      "name": "python",
      "nbconvert_exporter": "python",
      "pygments_lexer": "ipython3",
      "version": "3.10.12"
    }
  },
  "nbformat": 4,
  "nbformat_minor": 5
}