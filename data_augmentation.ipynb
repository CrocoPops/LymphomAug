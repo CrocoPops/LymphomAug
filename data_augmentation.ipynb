{
 "cells": [
  {
   "cell_type": "code",
   "execution_count": 1,
   "metadata": {},
   "outputs": [],
   "source": [
    "import os\n",
    "import re\n",
    "\n",
    "from PIL import Image\n",
    "from natsort import natsorted\n",
    "from torchvision import models\n",
    "from sklearn.model_selection import train_test_split\n",
    "import shutil"
   ]
  },
  {
   "cell_type": "code",
   "execution_count": 2,
   "metadata": {},
   "outputs": [],
   "source": [
    "BASE_FOLDER = os.getcwd()\n",
    "\n",
    "image_folder = os.path.join(BASE_FOLDER, \"data\", \"images\")\n",
    "img_filenames = natsorted([f for f in os.listdir(image_folder) if os.path.isfile(os.path.join(image_folder, f))])\n",
    "\n",
    "label_folder = os.path.join(BASE_FOLDER, \"data\", \"labels\")\n",
    "label_filenames = natsorted([f for f in os.listdir(label_folder) if os.path.isfile(os.path.join(label_folder, f))])\n",
    "\n",
    "data = list(zip(img_filenames, label_filenames))\n",
    "\n",
    "train_dataset, test_dataset = train_test_split(data, test_size=0.3, random_state=1)\n"
   ]
  },
  {
   "cell_type": "code",
   "execution_count": 4,
   "metadata": {},
   "outputs": [
    {
     "name": "stdout",
     "output_type": "stream",
     "text": [
      "Initialised with 113 image(s) found.\n",
      "Output directory set to c:\\Users\\fdavi\\Desktop\\LymphomAug\\data\\test\\images."
     ]
    },
    {
     "name": "stderr",
     "output_type": "stream",
     "text": [
      "Processing <PIL.Image.Image image mode=RGB size=312x417 at 0x1F584A1DFA0>: 100%|██████████| 600/600 [00:02<00:00, 238.33 Samples/s]\n"
     ]
    },
    {
     "name": "stdout",
     "output_type": "stream",
     "text": [
      "Initialised with 261 image(s) found.\n",
      "Output directory set to c:\\Users\\fdavi\\Desktop\\LymphomAug\\data\\train\\images."
     ]
    },
    {
     "name": "stderr",
     "output_type": "stream",
     "text": [
      "Processing <PIL.Image.Image image mode=RGB size=312x417 at 0x1F584AEDE20>: 100%|██████████| 1400/1400 [00:05<00:00, 242.13 Samples/s]\n"
     ]
    }
   ],
   "source": [
    "import Augmentor\n",
    "\n",
    "SAMPLES = 2000\n",
    "\n",
    "if os.path.isdir(os.path.join(BASE_FOLDER, \"data\", \"test\")):\n",
    "    shutil.rmtree(os.path.join(BASE_FOLDER, \"data\", \"test\"))\n",
    "if os.path.isdir(os.path.join(BASE_FOLDER, \"data\", \"train\")):   \n",
    "    shutil.rmtree(os.path.join(BASE_FOLDER, \"data\", \"train\"))\n",
    "    \n",
    "os.makedirs(os.path.join(BASE_FOLDER, \"data\", \"test\", \"images\"))\n",
    "os.makedirs(os.path.join(BASE_FOLDER, \"data\", \"test\", \"labels\"))\n",
    "os.makedirs(os.path.join(BASE_FOLDER, \"data\", \"train\", \"images\"))\n",
    "os.makedirs(os.path.join(BASE_FOLDER, \"data\", \"train\", \"labels\"))\n",
    "\n",
    "train_idx = 0\n",
    "for img_file, label_file in train_dataset:\n",
    "  shutil.copyfile(os.path.join(BASE_FOLDER, \"data\", \"images\", img_file), os.path.join(BASE_FOLDER, \"data\", \"train\", \"images\", f\"{train_idx}.png\"))\n",
    "  shutil.copyfile(os.path.join(BASE_FOLDER, \"data\", \"labels\", label_file), os.path.join(BASE_FOLDER, \"data\", \"train\", \"labels\", f\"{train_idx}.txt\"))\n",
    "  train_idx += 1\n",
    "\n",
    "test_idx = 0\n",
    "for img_file, label_file in test_dataset:\n",
    "  shutil.copyfile(os.path.join(BASE_FOLDER, \"data\", \"images\", img_file), os.path.join(BASE_FOLDER, \"data\", \"test\", \"images\", f\"{test_idx}.png\"))\n",
    "  shutil.copyfile(os.path.join(BASE_FOLDER, \"data\", \"labels\", label_file), os.path.join(BASE_FOLDER, \"data\", \"test\", \"labels\", f\"{test_idx}.txt\"))\n",
    "  test_idx += 1\n",
    "\n",
    "p = Augmentor.Pipeline(os.path.join(BASE_FOLDER, \"data\", \"test\", \"images\"), os.path.join(BASE_FOLDER, \"data\", \"test\", \"images\"))\n",
    "p.rotate_random_90(probability=0.75)\n",
    "#p.zoom(probability=0.75, min_factor=1.1, max_factor=1.6)\n",
    "p.flip_random(probability=0.75)\n",
    "p.random_contrast(probability=0.75, min_factor=0.5, max_factor=1.5)  # Adjust contrast randomly\n",
    "p.random_brightness(probability=0.75, min_factor=0.5, max_factor=1.5)  # Adjust brightness randomly\n",
    "p.random_distortion(probability=0.75, grid_width=4, grid_height=4, magnitude=10)  # Apply random distortion\n",
    "p.random_color(probability=0.75, min_factor=0.5, max_factor=1.5)  # Randomly change color balance\n",
    "p.sample(int(SAMPLES * 0.3))\n",
    "\n",
    "p = Augmentor.Pipeline(os.path.join(BASE_FOLDER, \"data\", \"train\", \"images\"), os.path.join(BASE_FOLDER, \"data\", \"train\", \"images\"))\n",
    "p.rotate_random_90(probability=0.75)\n",
    "#p.zoom(probability=0.75, min_factor=1.1, max_factor=1.6)\n",
    "p.flip_random(probability=0.75)\n",
    "p.random_contrast(probability=0.75, min_factor=0.5, max_factor=1.5)  # Adjust contrast randomly\n",
    "p.random_brightness(probability=0.75, min_factor=0.5, max_factor=1.5)  # Adjust brightness randomly\n",
    "p.random_distortion(probability=0.75, grid_width=4, grid_height=4, magnitude=10)  # Apply random distortion\n",
    "p.random_color(probability=0.75, min_factor=0.5, max_factor=1.5)  # Randomly change color balance\n",
    "p.sample(int(SAMPLES * 0.7))\n",
    "\n",
    "def extract_number(s):\n",
    "    match = re.search(r'\\d+', s)\n",
    "    if match:\n",
    "        return match.group()\n",
    "    else:\n",
    "        return None\n",
    "\n",
    "for filename in os.listdir(os.path.join(BASE_FOLDER, \"data\", \"train\", \"images\")):\n",
    "    if filename.startswith(\"images_original_\"):\n",
    "        n = extract_number(filename)\n",
    "        os.rename(os.path.join(BASE_FOLDER, \"data\", \"train\", \"images\", filename), os.path.join(BASE_FOLDER, \"data\", \"train\", \"images\", f\"{train_idx}.png\"))\n",
    "        shutil.copyfile(os.path.join(BASE_FOLDER, \"data\", \"labels\", f\"{n}.txt\"), os.path.join(BASE_FOLDER, \"data\", \"train\", \"labels\", f\"{train_idx}.txt\"))\n",
    "        train_idx += 1\n",
    "    \n",
    "for filename in os.listdir(os.path.join(BASE_FOLDER, \"data\", \"test\", \"images\")):\n",
    "    if filename.startswith(\"images_original_\"):\n",
    "        n = extract_number(filename)\n",
    "        os.rename(os.path.join(BASE_FOLDER, \"data\", \"test\", \"images\", filename), os.path.join(BASE_FOLDER, \"data\", \"test\", \"images\", f\"{test_idx}.png\"))\n",
    "        shutil.copyfile(os.path.join(BASE_FOLDER, \"data\", \"labels\", f\"{n}.txt\"), os.path.join(BASE_FOLDER, \"data\", \"test\", \"labels\", f\"{test_idx}.txt\"))\n",
    "        test_idx += 1\n"
   ]
  },
  {
   "cell_type": "code",
   "execution_count": null,
   "metadata": {},
   "outputs": [],
   "source": []
  },
  {
   "cell_type": "code",
   "execution_count": null,
   "metadata": {},
   "outputs": [],
   "source": []
  }
 ],
 "metadata": {
  "kernelspec": {
   "display_name": "Python 3",
   "language": "python",
   "name": "python3"
  },
  "language_info": {
   "codemirror_mode": {
    "name": "ipython",
    "version": 3
   },
   "file_extension": ".py",
   "mimetype": "text/x-python",
   "name": "python",
   "nbconvert_exporter": "python",
   "pygments_lexer": "ipython3",
   "version": "3.12.2"
  }
 },
 "nbformat": 4,
 "nbformat_minor": 2
}
