{
 "cells": [
  {
   "cell_type": "code",
   "execution_count": 1,
   "id": "ZbytoWVcbsAV",
   "metadata": {
    "colab": {
     "base_uri": "https://localhost:8080/"
    },
    "id": "ZbytoWVcbsAV",
    "outputId": "954f8e2b-5f88-4438-8e67-0b5ecd654c0f"
   },
   "outputs": [
    {
     "name": "stdout",
     "output_type": "stream",
     "text": [
      "c:\\Users\\Eddy\\Desktop\\LymphomAug\n"
     ]
    }
   ],
   "source": [
    "import os\n",
    "BASE_FOLDER = os.getcwd()\n",
    "print(BASE_FOLDER)"
   ]
  },
  {
   "cell_type": "code",
   "execution_count": 2,
   "id": "fZ37n_jSEiTr",
   "metadata": {
    "colab": {
     "base_uri": "https://localhost:8080/"
    },
    "id": "fZ37n_jSEiTr",
    "outputId": "a7aeb04e-7c42-4d0b-8840-38677b76fdb8"
   },
   "outputs": [],
   "source": [
    "#from google.colab import drive\n",
    "#drive.mount(os.path.join(BASE_FOLDER, \"drive\"))"
   ]
  },
  {
   "cell_type": "code",
   "execution_count": 3,
   "id": "ZDdVXn3SFgHc",
   "metadata": {
    "id": "ZDdVXn3SFgHc"
   },
   "outputs": [],
   "source": [
    "#import zipfile\n",
    "#zipf = zipfile.ZipFile(\"/content/drive/MyDrive/data.zip\")\n",
    "#zipf.extractall(os.path.join(BASE_FOLDER, \"data\"))\n",
    "#zipf.close()"
   ]
  },
  {
   "cell_type": "code",
   "execution_count": 4,
   "id": "p37G8LcQbQoM",
   "metadata": {
    "colab": {
     "base_uri": "https://localhost:8080/"
    },
    "id": "p37G8LcQbQoM",
    "outputId": "49d73a67-7edf-4175-955b-2d5bc72c3bdd"
   },
   "outputs": [],
   "source": [
    "#!pip install Augmentor"
   ]
  },
  {
   "cell_type": "code",
   "execution_count": 5,
   "id": "L7WZK26RfWqS",
   "metadata": {
    "id": "L7WZK26RfWqS"
   },
   "outputs": [],
   "source": [
    "# !rm -rf /content/data/augmented_images\n",
    "# !rm -rf /content/data/augmented_labels\n",
    "# !mkdir /content/data/augmented_images\n",
    "# !mkdir /content/data/augmented_labels\n",
    "if not os.path.exists(\"data/augmented_images\"):\n",
    "    os.makedirs(\"data/augmented_images\")\n",
    "    os.makedirs(\"data/augmented_labels\")\n",
    "else:\n",
    "    os.system(\"rm data/augmented_images/*\")\n",
    "    os.system(\"rm data/augmented_labels/*\")"
   ]
  },
  {
   "cell_type": "code",
   "execution_count": 6,
   "id": "gM2l-Ov4Ff7q",
   "metadata": {
    "colab": {
     "base_uri": "https://localhost:8080/",
     "height": 265
    },
    "id": "gM2l-Ov4Ff7q",
    "outputId": "8977ff2b-c829-499c-b6fd-c6ba630dc0ff"
   },
   "outputs": [
    {
     "name": "stdout",
     "output_type": "stream",
     "text": [
      "Initialised with 374 image(s) found.\n",
      "Output directory set to c:\\Users\\Eddy\\Desktop\\LymphomAug\\data\\augmented_images."
     ]
    },
    {
     "name": "stderr",
     "output_type": "stream",
     "text": [
      "Processing <PIL.Image.Image image mode=RGB size=417x312 at 0x19D64CE69C0>: 100%|██████████| 3000/3000 [00:13<00:00, 224.93 Samples/s]                \n"
     ]
    }
   ],
   "source": [
    "import Augmentor\n",
    "import re\n",
    "import shutil\n",
    "\n",
    "def extract_number(s):\n",
    "    match = re.search(r'\\d+', s)\n",
    "    if match:\n",
    "        return match.group()\n",
    "    else:\n",
    "        return None\n",
    "\n",
    "p = Augmentor.Pipeline(os.path.join(BASE_FOLDER, \"data\", \"images\"), os.path.join(BASE_FOLDER, \"data\", \"augmented_images\"))\n",
    "p.rotate_random_90(probability=0.5)\n",
    "#p.zoom(probability=0.5, min_factor=1.1, max_factor=1.6)\n",
    "p.flip_random(probability=0.5)\n",
    "p.random_contrast(probability=0.5, min_factor=0.8, max_factor=1.2)  # Adjust contrast randomly\n",
    "p.random_brightness(probability=0.5, min_factor=0.8, max_factor=1.2)  # Adjust brightness randomly\n",
    "p.random_distortion(probability=0.5, grid_width=4, grid_height=4, magnitude=8)  # Apply random distortion\n",
    "p.random_color(probability=0.5, min_factor=0.8, max_factor=1.2)  # Randomly change color balance\n",
    "\n",
    "p.sample(3000)\n"
   ]
  },
  {
   "cell_type": "code",
   "execution_count": 7,
   "id": "O1Vq_0AfmOyK",
   "metadata": {
    "id": "O1Vq_0AfmOyK"
   },
   "outputs": [],
   "source": [
    "start = 374\n",
    "for filename in os.listdir(os.path.join(BASE_FOLDER, \"data\", \"augmented_images\")):\n",
    "  n = extract_number(filename)\n",
    "  os.rename(os.path.join(BASE_FOLDER, \"data\", \"augmented_images\", filename), os.path.join(BASE_FOLDER, \"data\", \"augmented_images\", f\"{start}.png\"))\n",
    "  shutil.copyfile(os.path.join(BASE_FOLDER, \"data\", \"labels\", f\"{n}.txt\"), os.path.join(BASE_FOLDER, \"data\", \"augmented_labels\", f\"{start}.txt\"))\n",
    "  start += 1"
   ]
  },
  {
   "cell_type": "code",
   "execution_count": 8,
   "id": "a91abc5e-e9d2-42f3-abe2-3854f132c9cf",
   "metadata": {
    "colab": {
     "base_uri": "https://localhost:8080/",
     "height": 35
    },
    "id": "a91abc5e-e9d2-42f3-abe2-3854f132c9cf",
    "outputId": "03d7a05a-4fc6-4f71-d68d-fa0df8e16419"
   },
   "outputs": [],
   "source": [
    "#shutil.make_archive(\"data\", 'zip', os.path.join(BASE_FOLDER, \"data\"))\n",
    "#shutil.move(os.path.join(BASE_FOLDER, \"data.zip\"), os.path.join(BASE_FOLDER, \"drive\", \"MyDrive\", \"data.zip\"))"
   ]
  },
  {
   "cell_type": "code",
   "execution_count": null,
   "id": "3hj2tYnYheL3",
   "metadata": {
    "id": "3hj2tYnYheL3"
   },
   "outputs": [],
   "source": []
  }
 ],
 "metadata": {
  "accelerator": "GPU",
  "colab": {
   "gpuType": "T4",
   "provenance": []
  },
  "kernelspec": {
   "display_name": "Python 3 (ipykernel)",
   "language": "python",
   "name": "python3"
  },
  "language_info": {
   "codemirror_mode": {
    "name": "ipython",
    "version": 3
   },
   "file_extension": ".py",
   "mimetype": "text/x-python",
   "name": "python",
   "nbconvert_exporter": "python",
   "pygments_lexer": "ipython3",
   "version": "3.12.2"
  }
 },
 "nbformat": 4,
 "nbformat_minor": 5
}
